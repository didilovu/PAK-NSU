{
 "cells": [
  {
   "cell_type": "code",
   "execution_count": 102,
   "metadata": {},
   "outputs": [
    {
     "name": "stdout",
     "output_type": "stream",
     "text": [
      "[ 3 14  3  2 14  5  5  5  5  3 43  2  2]\n",
      "[(5, 4), (3, 3), (2, 3), (14, 2), (43, 1)]\n",
      "[5, 3, 2, 14, 43]\n"
     ]
    }
   ],
   "source": [
    "import numpy as np\n",
    "\n",
    "from collections import Counter\n",
    "\n",
    "a = np.array([3,14,3,2,14,5,5,5,5,3,43,2,2])\n",
    "print(a)\n",
    "b=Counter(a).most_common()\n",
    "print(b) #частота + сортировка\n",
    "c = list({b[i][0]: b[i][1] for i in range(0, len(b), 1)}.keys())\n",
    "print(c)"
   ]
  },
  {
   "cell_type": "code",
   "execution_count": 210,
   "metadata": {},
   "outputs": [
    {
     "name": "stdout",
     "output_type": "stream",
     "text": [
      "19991\n"
     ]
    }
   ],
   "source": [
    "import numpy as np\n",
    "h, w = 100, 200\n",
    "picture = np.random.randint(0, 256, (h, w, 3), dtype=np.uint8)\n",
    "#print(picture)\n",
    "to_2dim = np.split(np.ravel(picture, order='C'), h*w) \n",
    "uniqueA = np.unique(to_2dim, axis = 0)\n",
    "print(len(uniqueA))"
   ]
  },
  {
   "cell_type": "code",
   "execution_count": 29,
   "metadata": {},
   "outputs": [
    {
     "name": "stdout",
     "output_type": "stream",
     "text": [
      "[ 26.          37.          48.          47.          31.66666667\n",
      "  13.66666667  24.66666667  24.66666667 101.          80.33333333]\n"
     ]
    }
   ],
   "source": [
    "import numpy as np\n",
    "\n",
    "def moving_avg(arr, n):\n",
    "        x = np.array(arr)\n",
    "        sq = np.cumsum(np.insert(x, 0, 0)) \n",
    "        return (sq[n:] - sq[:-n]) / n\n",
    "\n",
    "\n",
    "Z = [15,26,37,48,59,34,2,5,67,2,234,5]\n",
    "print(moving_avg(Z,3))"
   ]
  },
  {
   "cell_type": "code",
   "execution_count": 1,
   "metadata": {},
   "outputs": [
    {
     "name": "stdout",
     "output_type": "stream",
     "text": [
      "[[ 7 10 12]\n",
      " [ 1  2  3]\n",
      " [ 4  3  6]\n",
      " [ 3  4  8]]\n",
      "[array([ 7, 10, 12]), None, array([4, 3, 6]), None]\n"
     ]
    }
   ],
   "source": [
    "import numpy as np\n",
    "\n",
    "def check(a):\n",
    "    if a[0] + a[1] > a[2] and a[0] + a[2] > a[1] and a[1] + a[2] > a[0]:\n",
    "        return a\n",
    "\n",
    "e = np.array([[7,10,12],\n",
    "   [1,2,3],\n",
    "   [4,3,6],\n",
    "   [3,4,8]])\n",
    "print(e)\n",
    "sq = list(map(check, e))\n",
    "print (sq)"
   ]
  }
 ],
 "metadata": {
  "kernelspec": {
   "display_name": "Python 3",
   "language": "python",
   "name": "python3"
  },
  "language_info": {
   "codemirror_mode": {
    "name": "ipython",
    "version": 3
   },
   "file_extension": ".py",
   "mimetype": "text/x-python",
   "name": "python",
   "nbconvert_exporter": "python",
   "pygments_lexer": "ipython3",
   "version": "3.7.3"
  }
 },
 "nbformat": 4,
 "nbformat_minor": 2
}
