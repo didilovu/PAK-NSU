{
 "cells": [
  {
   "cell_type": "markdown",
   "id": "c1c73b8d",
   "metadata": {},
   "source": [
    "# Задание 1\n",
    "\n",
    "С помощью библиотеки numpy реализовать модель с прямым проходом, состоящую из 3 полносвязных слоёв с функциями потерь: ReLU, tanh, Softmax. Длины векторов на входе 256, на выходе 4, промежуточные: 64 и 16."
   ]
  },
  {
   "cell_type": "code",
   "execution_count": 20,
   "id": "9034950d",
   "metadata": {},
   "outputs": [],
   "source": [
    "import numpy as np\n",
    "import random\n",
    "import math\n",
    "\n",
    "from sklearn.preprocessing import MinMaxScaler\n",
    "import matplotlib.pyplot as plt"
   ]
  },
  {
   "cell_type": "code",
   "execution_count": 21,
   "id": "8e91a5de",
   "metadata": {},
   "outputs": [],
   "source": [
    "def relu(x): #ReLU\n",
    "    return max(0, x) \n",
    "\n",
    "def tanh_(x): #гиперболический тангенс\n",
    "    return ((math.e**(2*x))-1)/(((math.e**(2*x))+1))\n",
    "\n",
    "def softmax(mas): #софтмакс\n",
    "    expa = np.exp(mas)\n",
    "    return expa / np.sum(expa)"
   ]
  },
  {
   "cell_type": "code",
   "execution_count": 24,
   "id": "60613d49",
   "metadata": {},
   "outputs": [
    {
     "name": "stdout",
     "output_type": "stream",
     "text": [
      "1.0\n"
     ]
    }
   ],
   "source": [
    "def first(mas256):\n",
    "    #массив из n элементов, заполненный случайными числами в диапазоне [-1;1] \n",
    "    mas64 = np.array([random.uniform(-1,1) for i in range(64)])\n",
    "    mas16 = np.array([random.uniform(-1,1) for i in range(16)])\n",
    "    mas4 = np.array([random.uniform(-1,1) for i in range(4)]) \n",
    "    for i in range(64):#уменьшаем размер до 64\n",
    "        for j in range(256):\n",
    "            mas64[i] = mas64[i] + mas64[i] * mas256[j]\n",
    "        \n",
    "    mas64 = list(map(lambda x:relu(x), mas64)) #применяем ф.п. релу к элементам массива\n",
    "\n",
    "    for i in range(16): #ещё уменьшаем..\n",
    "        for j in range(64):\n",
    "            mas16[i] = mas16[i] + mas16[i] * mas64[j]\n",
    "\n",
    "    mas16 = list(map(lambda x:tanh_(x), mas16)) #применяем ф.п. гип. тангенса\n",
    "\n",
    "    for i in range(4): #совсем уменьшаем.....\n",
    "        for j in range(16):\n",
    "            mas4[i] = mas4[i] + mas4[i] * mas16[j]\n",
    "\n",
    "    mas4 = list(softmax(mas4)) #софтмакс\n",
    "    return mas4#вот что получилось\n",
    "\n",
    "    \n",
    "    \n",
    "    \n",
    "mas256 = np.array([random.uniform(-1,1) for i in range(256)])\n",
    "mas4 =first(mas256)    \n",
    "print(np.sum(mas4)) #проверяем, сумма элеметов после софтмакса должна быть = 1"
   ]
  },
  {
   "cell_type": "markdown",
   "id": "306b1c2f",
   "metadata": {},
   "source": [
    "# Задание 2\n",
    "\n",
    "Реализовать модель с прямым проходом, состоящую из 2 свёрток с функциями активации ReLU и 2 функций MaxPool. Первый слой переводит из 3 каналов в 8, второй из 8 слоёв в 16. На вход подаётся изображение размера 19х19. (19х19x3 -> 18x18x8 -> 9x9x8 -> 8x8x16 -> 4x4x16)"
   ]
  },
  {
   "cell_type": "code",
   "execution_count": 25,
   "id": "ac69afef",
   "metadata": {},
   "outputs": [],
   "source": [
    "#свертка из 2ой лабы 2ой лекции\n",
    "def matrix_conv(m1: list, m2: list):\n",
    "    a, b = len(m1), len(m1[0])  \n",
    "    c, d = len(m2), len(m2[0])\n",
    "    res = [[0]*(b-d+1) for i in range(a-c+1)]\n",
    "    for i in range(a-c+1):\n",
    "        for j in range(b-d+1):\n",
    "            tmp2 = 0\n",
    "            for u in range(c):\n",
    "                tmp1 = 0\n",
    "                for v in range(d):\n",
    "                    tmp1 += m1[i+u][j+v] * m2[u][v]\n",
    "                tmp2 += tmp1\n",
    "            res[i][j] = tmp2\n",
    "    return res"
   ]
  },
  {
   "cell_type": "code",
   "execution_count": 26,
   "id": "673a4eda",
   "metadata": {},
   "outputs": [],
   "source": [
    "def MP(mat):#maxpooling\n",
    "    sh = list(mat.shape)\n",
    "    sh[1], sh[2] = [sh[1] // 2] * 2\n",
    "    mpres = np.zeros(tuple(sh))\n",
    "    \n",
    "    for d in range(sh[0]):\n",
    "        s = 0\n",
    "        for i in range (sh[1]):\n",
    "            for j in range (sh[2]):\n",
    "                mpres[d][i][j] = max(mat[d][i+s][j*2], mat[d][i+s+1][j*2], mat[d][i+s][j*2+1], mat[d][i+s+1][j*2+1])\n",
    "            s += 1\n",
    "    return mpres"
   ]
  },
  {
   "cell_type": "code",
   "execution_count": 27,
   "id": "b37ed0db",
   "metadata": {},
   "outputs": [
    {
     "data": {
      "text/plain": [
       "array([[[ 6.18279593,  5.87640812,  5.11118395,  5.65784279],\n",
       "        [ 7.14580548,  2.67379416,  8.23488662,  7.49904832],\n",
       "        [ 9.58074398,  5.89630508,  4.72410133,  8.13678947],\n",
       "        [ 1.40048224,  6.62146233,  7.33776287,  3.80836484]],\n",
       "\n",
       "       [[ 0.        ,  0.        ,  0.        ,  0.        ],\n",
       "        [ 0.        ,  0.        ,  0.        ,  0.28785631],\n",
       "        [ 0.        ,  0.        ,  0.        ,  1.04459246],\n",
       "        [ 0.        ,  0.        ,  0.        ,  0.        ]],\n",
       "\n",
       "       [[ 2.0687486 ,  0.        ,  0.        ,  0.        ],\n",
       "        [ 0.        ,  0.        ,  0.        ,  0.        ],\n",
       "        [ 0.        ,  0.17227006,  2.95150787,  0.        ],\n",
       "        [ 0.        ,  0.        ,  2.16080772,  0.        ]],\n",
       "\n",
       "       [[ 7.30773001,  5.87325753,  2.2456509 ,  6.54985039],\n",
       "        [ 6.29792572,  4.78319788,  5.42656144,  5.26316044],\n",
       "        [ 4.59603967,  4.06931474,  8.32057026,  3.1634134 ],\n",
       "        [ 5.99886624,  5.69839242,  5.57903901,  3.18707202]],\n",
       "\n",
       "       [[ 0.        ,  0.        ,  2.47531376,  0.        ],\n",
       "        [ 0.        ,  1.97269859,  1.62422943,  0.        ],\n",
       "        [ 0.        ,  4.00635154,  0.        ,  0.        ],\n",
       "        [ 0.        ,  0.10658635,  0.        ,  1.44987885]],\n",
       "\n",
       "       [[ 1.72454329,  5.01177382,  3.44679068,  0.74290293],\n",
       "        [ 2.52961478,  2.32697968,  3.61923674,  2.97106565],\n",
       "        [ 0.        ,  2.13521882,  0.        ,  0.91780805],\n",
       "        [ 3.10633437,  1.6076518 ,  3.0671998 ,  3.16545575]],\n",
       "\n",
       "       [[ 6.82494998,  3.1618106 ,  2.93172199,  2.32968523],\n",
       "        [ 4.22978473,  2.09729019,  5.02135404,  5.93303489],\n",
       "        [ 5.90184095,  0.15654978,  1.97105177,  2.2858933 ],\n",
       "        [ 2.85754352,  2.88889367,  0.        ,  1.32635224]],\n",
       "\n",
       "       [[ 2.51771626,  1.434289  ,  0.93473143,  0.        ],\n",
       "        [ 0.        ,  0.        ,  2.78675517,  1.48263877],\n",
       "        [ 5.01499479,  0.        ,  0.        ,  0.        ],\n",
       "        [ 0.        ,  0.        ,  0.        ,  0.55768918]],\n",
       "\n",
       "       [[ 6.50100165,  4.78249997,  7.91076092,  7.16789724],\n",
       "        [ 2.34075938,  3.22100591,  7.65930852,  4.22515946],\n",
       "        [ 8.36507731,  5.76469886,  5.58699619, 10.20671895],\n",
       "        [ 3.44758082,  5.52254652,  5.22089836,  4.19371225]],\n",
       "\n",
       "       [[ 5.50210021,  3.69525091,  5.72596268,  4.53314616],\n",
       "        [ 1.18071882,  2.19887097,  4.96204633,  2.33784148],\n",
       "        [ 1.92976121,  1.91686142,  0.        ,  1.97777681],\n",
       "        [ 1.68537762,  0.79189554,  2.49136358,  3.48614526]],\n",
       "\n",
       "       [[ 1.43541313,  2.48425986,  0.55943679,  2.83786594],\n",
       "        [ 0.85824239,  2.63344298,  2.43868795,  0.        ],\n",
       "        [ 5.81047013,  0.        ,  0.        ,  3.0686437 ],\n",
       "        [ 0.        ,  1.9537527 ,  0.        ,  2.5671267 ]],\n",
       "\n",
       "       [[ 1.74164978,  3.29546917,  1.86830555,  1.60195068],\n",
       "        [ 0.38779409,  0.        ,  0.95391813,  1.16847711],\n",
       "        [ 0.        ,  0.48914384,  0.        ,  0.39288203],\n",
       "        [ 0.97785082,  0.22166687,  0.22476959,  0.        ]],\n",
       "\n",
       "       [[ 0.        ,  1.3618857 ,  0.        ,  1.63345596],\n",
       "        [ 5.14776631,  1.09858796,  1.11418214,  3.06525174],\n",
       "        [ 1.68750515,  3.01074621,  2.8210012 ,  6.32019574],\n",
       "        [ 2.0207152 ,  2.7922164 ,  5.46117117,  2.04812203]],\n",
       "\n",
       "       [[ 4.24342557,  6.98767096,  5.57290578,  4.93273625],\n",
       "        [ 0.96071613,  4.56276198,  4.02431888,  6.19758913],\n",
       "        [ 2.41212462,  6.8563547 ,  4.9333605 ,  5.51320439],\n",
       "        [ 5.48975998,  1.25160587,  2.60995641,  1.56686311]],\n",
       "\n",
       "       [[ 0.        ,  0.        ,  0.        ,  0.        ],\n",
       "        [ 0.        ,  0.        ,  0.        ,  0.        ],\n",
       "        [ 0.        ,  0.        ,  0.        ,  0.        ],\n",
       "        [ 0.        ,  0.        ,  0.        ,  0.        ]],\n",
       "\n",
       "       [[ 8.04135105,  7.39453274,  4.73144982,  6.85531968],\n",
       "        [ 6.48925996,  5.7289223 ,  8.07873566,  7.41220367],\n",
       "        [ 7.03992156,  5.01301929,  8.07809473,  3.83421531],\n",
       "        [ 3.71844706,  5.90223844,  5.94053935,  3.05329773]]])"
      ]
     },
     "execution_count": 27,
     "metadata": {},
     "output_type": "execute_result"
    }
   ],
   "source": [
    "def sec(pic):\n",
    "    layer8 = np.zeros ((8,18,18))\n",
    "\n",
    "    for i in range (8):\n",
    "        conv = np.random.uniform(low = -1, high = 1, size =(3,2,2)) # каждый раз генерим новое ядро для свёртки\n",
    "    \n",
    "        layer3 = np.array([matrix_conv(pic[j], conv[j]) for j in range (3)]) #свёрточка 3 раза, тк 3 потока\n",
    "\n",
    "        layer3 = layer3[0] + layer3[1] + layer3[2] \n",
    "        layer3 = layer3.reshape(18*18) #в 1D\n",
    "        layer3 = np.array(list(map(lambda x:relu(x), layer3))) #ReLU\n",
    "        layer8[i] = layer3.reshape(18,18) #в 2D\n",
    "\n",
    "    mp1 = MP(layer8)#maxpooling\n",
    "    layer16 = np.zeros((16,8,8))\n",
    "\n",
    "    for a in range (16): #повторяем\n",
    "        conv = np.random.uniform(low = -1, high = 1, size =(8,2,2))\n",
    "    \n",
    "        mp2 = np.array([matrix_conv(mp1[k], conv[k]) for k in range (8)])\n",
    "        layer8 = np.zeros((8,8))\n",
    "        for t in range (8):\n",
    "            layer8 += mp2[t]\n",
    "        layer8 = layer8.reshape(8*8)\n",
    "        layer8 = np.array(list(map(lambda a:relu(a), layer8)))\n",
    "        layer16[a] = layer8.reshape(8,8)\n",
    "\n",
    "    answ = MP(layer16)\n",
    "    return answ\n",
    "\n",
    "    \n",
    "pic = np.random.uniform(low = -1, high = 1, size=(3,19,19))\n",
    "sec(pic)"
   ]
  },
  {
   "cell_type": "markdown",
   "id": "22ce2aca",
   "metadata": {},
   "source": [
    "# Задание 3\n",
    "\n",
    "Объединить сети из п.2 и п.1. На вход изображение размера 19х19, на выходе вектор из 4 элементов"
   ]
  },
  {
   "cell_type": "code",
   "execution_count": 29,
   "id": "7ff5ce23",
   "metadata": {},
   "outputs": [
    {
     "name": "stdout",
     "output_type": "stream",
     "text": [
      "[0.25708490013927365, 0.24719304676717227, 0.2369328998842636, 0.25878915320929036]\n"
     ]
    },
    {
     "name": "stderr",
     "output_type": "stream",
     "text": [
      "C:\\Users\\79132\\AppData\\Local\\Temp\\ipykernel_10348\\757225287.py:8: RuntimeWarning: overflow encountered in double_scalars\n",
      "  mas64[i] = mas64[i] + mas64[i] * mas256[j]\n",
      "C:\\Users\\79132\\AppData\\Local\\Temp\\ipykernel_10348\\757225287.py:8: RuntimeWarning: invalid value encountered in double_scalars\n",
      "  mas64[i] = mas64[i] + mas64[i] * mas256[j]\n"
     ]
    }
   ],
   "source": [
    "picture = np.random.uniform(low = -50,high = 50,size = (3,19,19))\n",
    "pic = sec(picture)\n",
    "\n",
    "pic = pic.reshape(16 * 4 * 4)\n",
    "pic = first(pic)\n",
    "\n",
    "print(pic)"
   ]
  },
  {
   "cell_type": "markdown",
   "id": "004eeec4",
   "metadata": {},
   "source": [
    "# Лабораторная работа 10. Матчасть DL"
   ]
  },
  {
   "cell_type": "code",
   "execution_count": 30,
   "id": "8a107fbd",
   "metadata": {},
   "outputs": [],
   "source": [
    "def sigmoid (x):\n",
    "    return 1/(1 + np.exp(-x))\n",
    "    "
   ]
  },
  {
   "cell_type": "code",
   "execution_count": 31,
   "id": "f4a8480d",
   "metadata": {},
   "outputs": [],
   "source": [
    "class Neuron:\n",
    "    def __init__ (self, inputLayerNeurons: int, hiddenLayerNeurons: int):\n",
    "        self.weights = np.random.uniform(size=(inputLayerNeurons,hiddenLayerNeurons))\n",
    "        self.bias =np.random.uniform(size=(1,hiddenLayerNeurons))\n",
    "        self.output = []\n",
    "    \n",
    "    def forward(self, inputs):\n",
    "        hidden_layer_activation = np.dot(inputs,self.weights)\n",
    "        self.output = sigmoid(hidden_layer_activation)\n",
    "        return self.output\n",
    "    \n",
    "    def backward2(self, inputs, loss):\n",
    "        self.weights += np.dot(inputs, loss)\n",
    "        self.bias += np.sum(loss, axis = 0, keepdims=True)\n",
    "        \n",
    "    def sigmoid_derivative(x):\n",
    "        return x * (1 - x)\n",
    "        \n",
    "class Model:\n",
    "    def __init__(self, input_layers:int, hidden_layers:int, output_layers:int):\n",
    "        self.hidden_layers = Neuron(input_layers, hidden_layers)\n",
    "        self.output_layers = Neuron(hidden_layers, output_layers)\n",
    "        self.output = 0\n",
    "        \n",
    "    def forward(self, inputs):\n",
    "        hidden_output = self.hidden_layers.forward(inputs)\n",
    "        self.output = self.output_layers.forward(hidden_output)\n",
    "        return self.output\n",
    "    \n",
    "    def backward(self, input_, expected_output, predicted_output):\n",
    "        error = expected_output - predicted_output\n",
    "        d_predicted_output = error * Neuron.sigmoid_derivative(predicted_output)\n",
    "        \n",
    "        error_hidden_layers = d_predicted_output.dot(self.output_layers.weights.T)\n",
    "        d_hidden_layer = error_hidden_layers * Neuron.sigmoid_derivative(self.hidden_layers.output)\n",
    "        \n",
    "        self.output_layers.backward2(self.hidden_layers.output.T, d_predicted_output)\n",
    "        self.hidden_layers.backward2(input_.T, d_hidden_layer)\n",
    "    \n",
    "    def train(self, X, y, epochs):\n",
    "        for i in range(epochs):\n",
    "            output = self.forward(X)\n",
    "            self.backward(X,y,output)\n",
    "\n",
    "    def predict(self,X):\n",
    "        return self.forward(X)\n",
    "    \n",
    "    def accuracy(self, y, predict):\n",
    "        return 1 - (np.abs(y-predict))\n"
   ]
  },
  {
   "cell_type": "code",
   "execution_count": 32,
   "id": "ef4c1aa8",
   "metadata": {},
   "outputs": [
    {
     "name": "stdout",
     "output_type": "stream",
     "text": [
      "[[0.03227753]\n",
      " [0.93162327]] [[0.96772247]\n",
      " [0.93162327]]\n"
     ]
    }
   ],
   "source": [
    "x = np.array([[0,0],[0,1],[1,0],[1,1]])\n",
    "y = np.array([[0],[1],[1],[0]])\n",
    "\n",
    "input_size = 2\n",
    "hidden_size = 2\n",
    "output_size = 1\n",
    "\n",
    "model = Model(input_size, hidden_size, output_size)\n",
    "model.train(x, y, 10000)\n",
    "output = model.predict([[0,0],[1,0]])\n",
    "\n",
    "print (output, model.accuracy([[0],[1]], output))"
   ]
  }
 ],
 "metadata": {
  "kernelspec": {
   "display_name": "Python 3 (ipykernel)",
   "language": "python",
   "name": "python3"
  },
  "language_info": {
   "codemirror_mode": {
    "name": "ipython",
    "version": 3
   },
   "file_extension": ".py",
   "mimetype": "text/x-python",
   "name": "python",
   "nbconvert_exporter": "python",
   "pygments_lexer": "ipython3",
   "version": "3.9.13"
  }
 },
 "nbformat": 4,
 "nbformat_minor": 5
}
