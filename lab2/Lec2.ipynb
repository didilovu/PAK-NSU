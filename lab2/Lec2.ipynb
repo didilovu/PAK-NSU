{
 "cells": [
  {
   "cell_type": "code",
   "execution_count": 3,
   "metadata": {},
   "outputs": [
    {
     "name": "stdout",
     "output_type": "stream",
     "text": [
      "Лёша на полке клопа нашёл\n",
      "лёшанаполкеклопанашёл\n",
      "Y\n"
     ]
    }
   ],
   "source": [
    "p = input()\n",
    "flag = 0\n",
    "p = p.replace(\" \", \"\")\n",
    "p = p.lower()\n",
    "print(p)\n",
    "for i in range(int(len(p)/2)):\n",
    "    if p[i] == p[int(len(p)) - i-1]:\n",
    "        continue\n",
    "    else:\n",
    "        print(\"No\")\n",
    "        flag = -1\n",
    "        break\n",
    "if flag == 0: \n",
    "    print(\"Yes\")"
   ]
  },
  {
   "cell_type": "code",
   "execution_count": 3,
   "metadata": {},
   "outputs": [
    {
     "name": "stdout",
     "output_type": "stream",
     "text": [
      "три четыре пять\n",
      "6 букв в большем слове\n",
      "четыре\n"
     ]
    }
   ],
   "source": [
    "p = input()\n",
    "maxim = -1\n",
    "size = 0\n",
    "iid = len(p)\n",
    "for i in range(int(len(p))):\n",
    "    if p[i] != \" \":\n",
    "        size+=1\n",
    "    if maxim <= size:\n",
    "        iid = i-maxim \n",
    "        maxim = size\n",
    "    else:\n",
    "        continue\n",
    "    if p[i] == \" \":\n",
    "        size = 0\n",
    "print(maxim, \"букв в большем слове\")\n",
    "print(p[iid:iid+maxim])"
   ]
  },
  {
   "cell_type": "code",
   "execution_count": 10,
   "metadata": {},
   "outputs": [
    {
     "name": "stdout",
     "output_type": "stream",
     "text": [
      "Размер списка = 6\n",
      "[167, 379, 496, 357, 374, 304]\n",
      "Чётных чисел  3\n",
      "Нечётных чисел  3\n"
     ]
    }
   ],
   "source": [
    "import random\n",
    "\n",
    "chet =0\n",
    "antichet = 0\n",
    "N = int(input(\"Размер списка = \"))\n",
    "nums = []\n",
    "for i in range (N):\n",
    "    nums.append(random.randint(1, 500))\n",
    "    if int(nums[i]) % 2 == 0:\n",
    "        chet += 1\n",
    "    else:\n",
    "        antichet +=1\n",
    "print(nums)\n",
    "print(\"Чётных чисел = \", chet)\n",
    "print(\"Нечётных чисел = \", antichet)"
   ]
  },
  {
   "cell_type": "code",
   "execution_count": 15,
   "metadata": {},
   "outputs": [
    {
     "name": "stdout",
     "output_type": "stream",
     "text": [
      "Строк: 3\n",
      "Слов: 72\n",
      "Букв: 957\n"
     ]
    }
   ],
   "source": [
    "file = open('text.txt')\n",
    "\n",
    "lines = 0\n",
    "words = 0\n",
    "syms = 0\n",
    "for line in file:\n",
    "    lines += 1\n",
    "    words += len(line.split())\n",
    "    syms += len(line.strip('\\n'))\n",
    "file.close\n",
    "print(\"Строк:\", lines)\n",
    "print(\"Слов:\", words)\n",
    "print(\"Букв:\", syms)"
   ]
  },
  {
   "cell_type": "code",
   "execution_count": 1,
   "metadata": {},
   "outputs": [
    {
     "name": "stdout",
     "output_type": "stream",
     "text": [
      "10\n",
      "34\n"
     ]
    }
   ],
   "source": [
    "def fib(n):\n",
    "    if n == 1:\n",
    "        return 0\n",
    "    if n == 2:\n",
    "        return 1\n",
    "    return fib(n-1) + fib(n-2)\n",
    "\n",
    "N = int(input())\n",
    "print(fib(N))"
   ]
  },
  {
   "cell_type": "code",
   "execution_count": 54,
   "metadata": {},
   "outputs": [
    {
     "name": "stdout",
     "output_type": "stream",
     "text": [
      "2\n",
      "4\n",
      "8\n",
      "16\n",
      "32\n",
      "64\n",
      "128\n",
      "256\n"
     ]
    }
   ],
   "source": [
    "def geometr(val):\n",
    "    s = 1\n",
    "    while True:\n",
    "        s = s * val\n",
    "        yield s\n",
    "        \n",
    "myGeo = geometr(2)\n",
    "for i in range(8):\n",
    "    print(next(myGeo))"
   ]
  },
  {
   "cell_type": "code",
   "execution_count": 7,
   "metadata": {},
   "outputs": [
    {
     "name": "stdout",
     "output_type": "stream",
     "text": [
      "Введите текст: 1 биба и 1 боба пасли 3 носорога\n",
      "один биба и один боба пасли три носорога\n"
     ]
    }
   ],
   "source": [
    "# заменить все ключи на значения (ключ, значение)\n",
    "dct = {'1': 'один', '2': 'два', '3': 'три'}\n",
    "N = input(\"Введите текст: \")\n",
    "N = N.split()\n",
    "for i, word in enumerate(N):\n",
    "    if word in dct.keys():\n",
    "        N[i] = dct[word]\n",
    "print(*N)"
   ]
  },
  {
   "cell_type": "code",
   "execution_count": null,
   "metadata": {},
   "outputs": [],
   "source": []
  }
 ],
 "metadata": {
  "kernelspec": {
   "display_name": "Python 3",
   "language": "python",
   "name": "python3"
  },
  "language_info": {
   "codemirror_mode": {
    "name": "ipython",
    "version": 3
   },
   "file_extension": ".py",
   "mimetype": "text/x-python",
   "name": "python",
   "nbconvert_exporter": "python",
   "pygments_lexer": "ipython3",
   "version": "3.7.3"
  }
 },
 "nbformat": 4,
 "nbformat_minor": 2
}
