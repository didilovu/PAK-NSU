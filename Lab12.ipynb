{
 "cells": [
  {
   "cell_type": "markdown",
   "id": "768ad698",
   "metadata": {},
   "source": [
    "# Задание\n",
    "1) Задача классификации изображений (https://pytorch.org/tutorials/beginner/blitz/cifar10_tutorial.html?highlight=mnist). Повторить тренировку модели (train) и запустить классификацию изображений (inference). \n",
    "\n",
    "2) Получить максимальную точность классификации (минимальный loss) путём изменения модели, например, добавлением скрытых слоёв"
   ]
  },
  {
   "cell_type": "code",
   "execution_count": 15,
   "id": "b19354f0",
   "metadata": {},
   "outputs": [],
   "source": [
    "import os\n",
    "os.environ['KMP_DUPLICATE_LIB_OK']='True'\n",
    "#нашла этот кусок в интернетах, без него умирает kernel :("
   ]
  },
  {
   "cell_type": "code",
   "execution_count": 16,
   "id": "436ddc76",
   "metadata": {},
   "outputs": [],
   "source": [
    "import matplotlib.pyplot as plt\n",
    "import numpy as np\n",
    "import torch.nn as nn\n",
    "import torch.optim as optim\n",
    "import torch.nn.functional as F\n",
    "import torch\n",
    "import torchvision\n",
    "import torchvision.transforms as transforms\n",
    "#библиотеки"
   ]
  },
  {
   "cell_type": "code",
   "execution_count": 17,
   "id": "71c67d1a",
   "metadata": {},
   "outputs": [
    {
     "name": "stdout",
     "output_type": "stream",
     "text": [
      "Files already downloaded and verified\n",
      "Files already downloaded and verified\n"
     ]
    }
   ],
   "source": [
    "transform = transforms.Compose([transforms.ToTensor(),\n",
    "                                transforms.Normalize((0.5, 0.5, 0.5),\n",
    "                                                     (0.5, 0.5, 0.5))])\n",
    "\n",
    "trainset = torchvision.datasets.CIFAR10(root='./data', train=True,\n",
    "                                        download=True, transform=transform)\n",
    "trainloader = torch.utils.data.DataLoader(trainset, batch_size=50,\n",
    "                                          shuffle=True, num_workers=2)\n",
    "\n",
    "testset = torchvision.datasets.CIFAR10(root='./data', train=False,\n",
    "                                       download=True, transform=transform)\n",
    "testloader = torch.utils.data.DataLoader(testset, batch_size=50,\n",
    "                                         shuffle=False, num_workers=2)\n",
    "\n",
    "classes = ('plane', 'car', 'bird', 'cat', 'deer',\n",
    "           'dog', 'frog', 'horse', 'ship', 'truck')\n",
    "#загружаем датасет, называем классы"
   ]
  },
  {
   "cell_type": "code",
   "execution_count": 18,
   "id": "bbde1975",
   "metadata": {},
   "outputs": [],
   "source": [
    "class Net(nn.Module):\n",
    "    def __init__(self):\n",
    "        super().__init__()\n",
    "        self.layer1 = nn.Sequential(\n",
    "                    nn.Conv2d(in_channels=3, out_channels=6, kernel_size=3, padding=3),\n",
    "                    nn.ReLU())\n",
    "        \n",
    "        \n",
    "        self.layer2 = nn.Sequential(\n",
    "                    nn.Conv2d(in_channels=6, out_channels=16, kernel_size=3, padding=1),\n",
    "                    nn.ReLU(),\n",
    "                    nn.MaxPool2d(2, 2))\n",
    "        \n",
    "        self.layer3 = nn.Sequential(\n",
    "                    nn.Conv2d(in_channels=16, out_channels=32, kernel_size=3, padding=3, dilation=3),\n",
    "                    nn.ReLU(),\n",
    "                    nn.MaxPool2d(2,2))\n",
    "        \n",
    "        self.layer4 = nn.Sequential(\n",
    "                    nn.Conv2d(in_channels=32, out_channels=64, kernel_size=3, padding=3, dilation=3),\n",
    "                    nn.ReLU(),\n",
    "                    nn.MaxPool2d(2,2))\n",
    "        \n",
    "        self.layer5 = nn.Sequential(\n",
    "                    nn.Conv2d(in_channels=64, out_channels=128, kernel_size=3, padding=3, dilation=3),\n",
    "                    nn.ReLU(),\n",
    "                    nn.MaxPool2d(2,2))\n",
    "        \n",
    "        self.layer6 = nn.Sequential(\n",
    "                    nn.Conv2d(in_channels=128, out_channels=256, kernel_size=3, padding=3, dilation=3),\n",
    "                    nn.ReLU(),\n",
    "                    nn.MaxPool2d(2,2))\n",
    "    \n",
    "        \n",
    "        self.fc1 = nn.Linear(256, 150)\n",
    "        self.fc2 = nn.Linear(150, 50)\n",
    "        self.fc3 = nn.Linear(50, 10)\n",
    "\n",
    "    def forward(self, x):\n",
    "        x = self.layer1(x)\n",
    "        x = self.layer2(x)\n",
    "        x = self.layer3(x)\n",
    "        x = self.layer4(x)\n",
    "        x = self.layer5(x)\n",
    "        x = self.layer6(x)\n",
    "        x = torch.flatten(x, 1) # flatten all dimensions except batch\n",
    "        x = F.relu(self.fc1(x))\n",
    "        x = F.relu(self.fc2(x))\n",
    "        x = self.fc3(x)\n",
    "        return x\n",
    "\n",
    "\n",
    "net = Net()"
   ]
  },
  {
   "cell_type": "code",
   "execution_count": 19,
   "id": "724b37e4",
   "metadata": {},
   "outputs": [],
   "source": [
    "criterion = nn.CrossEntropyLoss()\n",
    "optimizer = torch.optim.Adam(net.parameters(), lr=0.001)\n",
    "#кросс-энтропия и оптимизатор адам"
   ]
  },
  {
   "cell_type": "code",
   "execution_count": 20,
   "id": "6fe2b38d",
   "metadata": {},
   "outputs": [
    {
     "name": "stdout",
     "output_type": "stream",
     "text": [
      "[1,  1000] loss: 1.807\n",
      "[2,  1000] loss: 1.486\n",
      "[3,  1000] loss: 1.309\n",
      "[4,  1000] loss: 1.180\n",
      "[5,  1000] loss: 1.084\n",
      "[6,  1000] loss: 1.008\n",
      "[7,  1000] loss: 0.942\n",
      "[8,  1000] loss: 0.885\n",
      "[9,  1000] loss: 0.830\n",
      "[10,  1000] loss: 0.785\n",
      "[11,  1000] loss: 0.739\n",
      "[12,  1000] loss: 0.691\n",
      "[13,  1000] loss: 0.650\n",
      "[14,  1000] loss: 0.615\n",
      "[15,  1000] loss: 0.584\n",
      "Finished Training\n"
     ]
    }
   ],
   "source": [
    " for epoch in range(15):\n",
    "    running_loss = 0.0\n",
    "    for i, data in enumerate(trainloader, 0):\n",
    "        inputs, labels = data\n",
    "        optimizer.zero_grad()\n",
    "        outputs = net(inputs)\n",
    "        loss = criterion(outputs, labels)\n",
    "        loss.backward()\n",
    "        optimizer.step()\n",
    "        running_loss += loss.item()\n",
    "        if i % 1000 == 999:\n",
    "            print('[%d, %5d] loss: %.3f' %\n",
    "                  (epoch + 1, i + 1, running_loss / 1000))\n",
    "            running_loss = 0.0\n",
    "\n",
    "print('Finished Training')\n",
    "#обучение"
   ]
  },
  {
   "cell_type": "code",
   "execution_count": 23,
   "id": "425d8827",
   "metadata": {},
   "outputs": [
    {
     "name": "stdout",
     "output_type": "stream",
     "text": [
      "Accuracy of the network on the 10000 test images: 64 %\n"
     ]
    }
   ],
   "source": [
    "correct = 0\n",
    "total = 0\n",
    "with torch.no_grad():\n",
    "    for data in testloader:\n",
    "        images, labels = data\n",
    "        outputs = net(images)\n",
    "        _, predicted = torch.max(outputs.data, 1)\n",
    "        total += labels.size(0)\n",
    "        correct += (predicted == labels).sum().item()\n",
    "\n",
    "print('Accuracy of the network on the 10000 test images: %d %%' %\n",
    "      (100 * correct / total))"
   ]
  },
  {
   "cell_type": "code",
   "execution_count": 24,
   "id": "7a7c0520",
   "metadata": {},
   "outputs": [
    {
     "name": "stdout",
     "output_type": "stream",
     "text": [
      "Accuracy of plane : 78 %\n",
      "Accuracy of   car : 77 %\n",
      "Accuracy of  bird : 62 %\n",
      "Accuracy of   cat : 39 %\n",
      "Accuracy of  deer : 56 %\n",
      "Accuracy of   dog : 46 %\n",
      "Accuracy of  frog : 74 %\n",
      "Accuracy of horse : 62 %\n",
      "Accuracy of  ship : 82 %\n",
      "Accuracy of truck : 62 %\n"
     ]
    }
   ],
   "source": [
    "class_correct = list(0. for i in range(10))\n",
    "class_total = list(0. for i in range(10))\n",
    "with torch.no_grad():\n",
    "    for data in testloader:\n",
    "        images, labels = data\n",
    "        outputs = net(images)\n",
    "        _, predicted = torch.max(outputs, 1)\n",
    "        c = (predicted == labels).squeeze()\n",
    "        for i in range(4):\n",
    "            label = labels[i]\n",
    "            class_correct[label] += c[i].item()\n",
    "            class_total[label] += 1\n",
    "\n",
    "\n",
    "for i in range(10):\n",
    "    print('Accuracy of %5s : %2d %%' % (\n",
    "        classes[i], 100 * class_correct[i] / class_total[i]))"
   ]
  },
  {
   "cell_type": "code",
   "execution_count": null,
   "id": "50f9268f",
   "metadata": {},
   "outputs": [],
   "source": []
  }
 ],
 "metadata": {
  "kernelspec": {
   "display_name": "Python 3 (ipykernel)",
   "language": "python",
   "name": "python3"
  },
  "language_info": {
   "codemirror_mode": {
    "name": "ipython",
    "version": 3
   },
   "file_extension": ".py",
   "mimetype": "text/x-python",
   "name": "python",
   "nbconvert_exporter": "python",
   "pygments_lexer": "ipython3",
   "version": "3.9.13"
  }
 },
 "nbformat": 4,
 "nbformat_minor": 5
}
