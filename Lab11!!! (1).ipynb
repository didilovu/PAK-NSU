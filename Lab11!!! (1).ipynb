{
 "cells": [
  {
   "cell_type": "markdown",
   "id": "7446c604",
   "metadata": {},
   "source": [
    "# Задание 1\n",
    "Написать SimpleModel другим способом. Использовать model = nn.Sequential() https://pytorch.org/tutorials/beginner/nn_tutorial.html?highlight=mnist \". + hw.pdf ( https://github.com/d-pack/LessonsPAK/blob/main/s14/hw.pdf )"
   ]
  },
  {
   "cell_type": "code",
   "execution_count": 52,
   "id": "686625a8",
   "metadata": {},
   "outputs": [],
   "source": [
    "import numpy as np\n",
    "import torch\n",
    "import torch.nn as nn\n",
    "import pandas as pd\n",
    "from scipy.signal import convolve2d"
   ]
  },
  {
   "cell_type": "code",
   "execution_count": 57,
   "id": "dd41d5c4",
   "metadata": {},
   "outputs": [],
   "source": [
    "def matrix_conv(m1: list, m2: list):\n",
    "    a, b = len(m1), len(m1[0])  \n",
    "    c, d = len(m2), len(m2[0])\n",
    "    res = [[0]*(b-d+1) for i in range(a-c+1)]\n",
    "    for i in range(a-c+1):\n",
    "        for j in range(b-d+1):\n",
    "            tmp2 = 0\n",
    "            for u in range(c):\n",
    "                tmp1 = 0\n",
    "                for v in range(d):\n",
    "                    tmp1 += m1[i+u][j+v] * m2[u][v]\n",
    "                tmp2 += tmp1\n",
    "            res[i][j] = tmp2\n",
    "    return res"
   ]
  },
  {
   "cell_type": "code",
   "execution_count": 53,
   "id": "be0c6cf6",
   "metadata": {},
   "outputs": [],
   "source": [
    "#1_1\n",
    "in_ch = 64\n",
    "out_ch = 10\n",
    "\n",
    "model = nn.Sequential(\n",
    "    nn.Linear(in_ch, 32),\n",
    "    nn.ReLU(),\n",
    "    nn.Linear(32, out_ch, bias=False),\n",
    "    nn.ReLU(),\n",
    ")"
   ]
  },
  {
   "cell_type": "code",
   "execution_count": 60,
   "id": "efe54add",
   "metadata": {},
   "outputs": [
    {
     "name": "stdout",
     "output_type": "stream",
     "text": [
      "------------------------------------------\n",
      "[[[ 5.  4.]\n",
      "  [ 4.  5.]]\n",
      "\n",
      " [[ 0. -1.]\n",
      "  [-1.  0.]]\n",
      "\n",
      " [[-1.  1.]\n",
      "  [-1.  1.]]]\n"
     ]
    }
   ],
   "source": [
    "#2_1\n",
    "rgb = torch.tensor([[[1,2,1],[2,4,2],[1,2,1]], #цветное изображение\n",
    "                       [[-1,0,1],[0,0,0],[1,0,-1]],\n",
    "                       [[0,1,0],[1,2,1],[0,1,0]]],\n",
    "                      dtype=torch.float32)\n",
    "\n",
    "weig = torch.tensor([[[1,0],[0,1]], #ядро\n",
    "                       [[0,-1],[-1,0]],\n",
    "                       [[1,-1],[0,0]]],\n",
    "                      dtype=torch.float32)\n",
    "print(\"------------------------------------------\")\n",
    "\n",
    "answ = []\n",
    "i = 0\n",
    "for i in range (3):\n",
    "    answ += [matrix_conv(rgb[i], weig[i])] #складываем rgb\n",
    "\n",
    "print (np.array(answ))"
   ]
  },
  {
   "cell_type": "code",
   "execution_count": 12,
   "id": "a34e26af",
   "metadata": {},
   "outputs": [
    {
     "data": {
      "text/plain": [
       "55"
      ]
     },
     "execution_count": 12,
     "metadata": {},
     "output_type": "execute_result"
    }
   ],
   "source": [
    "#2_2\n",
    "class Layer:\n",
    "    def __init__(self,in_channels, out_channels, kernel_size,padding,stride,dilation):\n",
    "        self.in_channels = in_channels\n",
    "        self.out_channels = out_channels\n",
    "        self.kernel_size = kernel_size\n",
    "        self.padding = padding\n",
    "        self.stride = stride\n",
    "        self.dilation = dilation\n",
    "\n",
    "    def rec_field(lays):\n",
    "        stris = 1\n",
    "        r = 1\n",
    "        for i in lays:\n",
    "            stris *= i.stride\n",
    "            r += i.dilation * (i.kernel_size - 1) * stris\n",
    "        return r\n",
    "\n",
    "layers = [Layer(1,1,7,3,1,1),Layer(1,1,3,1,2,1),Layer(1,1,2,0,2,1),Layer(1,1,3,100500,1,2),Layer(1,1,3,28,3,1)]\n",
    "\n",
    "\n",
    "Layer.rec_field(layers)"
   ]
  },
  {
   "cell_type": "code",
   "execution_count": 13,
   "id": "80f1f084",
   "metadata": {},
   "outputs": [
    {
     "name": "stdout",
     "output_type": "stream",
     "text": [
      "torch.Size([1, 26, 26])\n"
     ]
    }
   ],
   "source": [
    "#2_3\n",
    "pic3 = torch.empty((1,224,224)) #входное изображение\n",
    "model3 = nn.Sequential(\n",
    "    nn.Conv2d(in_channels=1, out_channels=1, kernel_size=7, stride=2, padding=3),\n",
    "    nn.Conv2d(in_channels=1, out_channels=1, kernel_size=3, padding=1),\n",
    "    nn.MaxPool2d(2, padding=0, stride=2),\n",
    "    nn.Conv2d(in_channels=1, out_channels=1, kernel_size=3, stride=2, padding=1, dilation=3),\n",
    ")\n",
    "answ = model3(pic3).shape #узнаём размер\n",
    "print(answ)"
   ]
  },
  {
   "cell_type": "code",
   "execution_count": null,
   "id": "69cf5f26",
   "metadata": {},
   "outputs": [],
   "source": []
  },
  {
   "cell_type": "code",
   "execution_count": null,
   "id": "d0884a4a",
   "metadata": {},
   "outputs": [],
   "source": []
  }
 ],
 "metadata": {
  "kernelspec": {
   "display_name": "Python 3 (ipykernel)",
   "language": "python",
   "name": "python3"
  },
  "language_info": {
   "codemirror_mode": {
    "name": "ipython",
    "version": 3
   },
   "file_extension": ".py",
   "mimetype": "text/x-python",
   "name": "python",
   "nbconvert_exporter": "python",
   "pygments_lexer": "ipython3",
   "version": "3.9.13"
  }
 },
 "nbformat": 4,
 "nbformat_minor": 5
}
